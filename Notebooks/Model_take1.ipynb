{
  "nbformat": 4,
  "nbformat_minor": 0,
  "metadata": {
    "colab": {
      "provenance": []
    },
    "kernelspec": {
      "name": "python3",
      "display_name": "Python 3"
    },
    "language_info": {
      "name": "python"
    }
  },
  "cells": [
    {
      "cell_type": "code",
      "source": [
        "import pandas as pd\n",
        "from google.colab import drive\n",
        "drive.mount('/content/drive')"
      ],
      "metadata": {
        "colab": {
          "base_uri": "https://localhost:8080/"
        },
        "id": "wjq17kBWY1sb",
        "outputId": "9d398ec6-387b-43b3-ac84-a294b8ab1abe"
      },
      "execution_count": null,
      "outputs": [
        {
          "output_type": "stream",
          "name": "stdout",
          "text": [
            "Mounted at /content/drive\n"
          ]
        }
      ]
    },
    {
      "cell_type": "code",
      "source": [
        "import tensorflow as tf\n",
        "from tensorflow.keras.preprocessing.text import Tokenizer\n",
        "from tensorflow.keras.preprocessing.sequence import pad_sequences\n",
        "from tensorflow.keras.models import Sequential\n",
        "from tensorflow.keras.layers import Embedding, LSTM, Dense, Dropout, Bidirectional\n",
        "import matplotlib.pyplot as plt\n",
        "\n",
        "from sklearn.model_selection import train_test_split"
      ],
      "metadata": {
        "id": "_EQO3N2iu2G1"
      },
      "execution_count": null,
      "outputs": []
    },
    {
      "cell_type": "code",
      "source": [
        "data = pd.read_csv('//content/drive/MyDrive/Mtech /Dissertation/data_output/raw_data.csv')"
      ],
      "metadata": {
        "id": "F5BwgO3jur5D"
      },
      "execution_count": null,
      "outputs": []
    },
    {
      "cell_type": "code",
      "source": [
        "data.columns"
      ],
      "metadata": {
        "id": "H2bacLLm5z1A",
        "outputId": "5ee13142-9bf4-499a-afe1-752312c8623c",
        "colab": {
          "base_uri": "https://localhost:8080/"
        }
      },
      "execution_count": null,
      "outputs": [
        {
          "output_type": "execute_result",
          "data": {
            "text/plain": [
              "Index(['nctid', 'status', 'why_stop', 'label', 'phase', 'diseases', 'icdcodes',\n",
              "       'drugs', 'smiless', 'criteria'],\n",
              "      dtype='object')"
            ]
          },
          "metadata": {},
          "execution_count": 3
        }
      ]
    },
    {
      "cell_type": "code",
      "source": [
        "mask = data['status'] == 'completed'\n",
        "data['label'] = mask.map({True: 1, False: 0})"
      ],
      "metadata": {
        "id": "wjdWYzOE9Wn2"
      },
      "execution_count": null,
      "outputs": []
    },
    {
      "cell_type": "code",
      "source": [
        "use_data= use_data.fillna(\"\")\n",
        "use_data['combine_data'] = use_data['why_stop_updated'] + \"  \" + use_data[\"diseases_updated\"] + \"  \" + use_data[\"drugs_updated\"] + use_data[\"criteria_updated\"]"
      ],
      "metadata": {
        "id": "rGHXAC6NUaB9"
      },
      "execution_count": null,
      "outputs": []
    },
    {
      "cell_type": "code",
      "source": [
        "use_data"
      ],
      "metadata": {
        "colab": {
          "base_uri": "https://localhost:8080/",
          "height": 597
        },
        "id": "VQwEJj8WL6Qc",
        "outputId": "ac187f8d-6acc-4480-96cb-34962575b5be"
      },
      "execution_count": null,
      "outputs": [
        {
          "output_type": "execute_result",
          "data": {
            "text/plain": [
              "                               why_stop_updated  \\\n",
              "0      protocol amended statsaccrual changes pi   \n",
              "1                                                 \n",
              "2                                                 \n",
              "3                                                 \n",
              "4                                                 \n",
              "...                                         ...   \n",
              "14566                                             \n",
              "14567                                             \n",
              "14568                                             \n",
              "14569     closed prolonged enrollment timelines   \n",
              "14570                                             \n",
              "\n",
              "                                        diseases_updated  \\\n",
              "0      aggressive nonhodgkin lymphoma bcell nonhodgki...   \n",
              "1                                      smoking cessation   \n",
              "2                                   rheumatoid arthritis   \n",
              "3                          idiopathic pulmonary fibrosis   \n",
              "4                               type 2 diabetes mellitus   \n",
              "...                                                  ...   \n",
              "14566                           type 2 diabetes mellitus   \n",
              "14567                       idiopathic parkinson disease   \n",
              "14568                                    cystic fibrosis   \n",
              "14569                               renal cell carcinoma   \n",
              "14570                  chronic constipation constipation   \n",
              "\n",
              "                                           drugs_updated  \\\n",
              "0      cyclophosphamide doxorubicin hydrochloride pre...   \n",
              "1                            cytisine placebo comparator   \n",
              "2                  placebo matched prednisone prednisone   \n",
              "3                                 nintedanib pirfenidone   \n",
              "4                      sitagliptin placebo ipragliflozin   \n",
              "...                                                  ...   \n",
              "14566  dulaglutide insulin glargine metformin sulfony...   \n",
              "14567                     rotigotine placebo patch ldopa   \n",
              "14568  azli placebo match azli tobramycin inhalation ...   \n",
              "14569                                           axitinib   \n",
              "14570  linaclotide 290 micrograms linaclotide 145 mic...   \n",
              "\n",
              "                                        criteria_updated  label  \\\n",
              "0      inclusion criteria   patient confirmed diagnos...      0   \n",
              "1      inclusion criteria  1 male female subjects age...      1   \n",
              "2      inclusion criteria  tocilizumabexperienced par...      1   \n",
              "3      inclusion criteria   written informed consent ...      1   \n",
              "4      inclusion criteria   type 2 diabetes mellitus ...      1   \n",
              "...                                                  ...    ...   \n",
              "14566  inclusion criteria   type 2 diabetes mellitus ...      1   \n",
              "14567  inclusion criteria  inclusion criteria   indep...      1   \n",
              "14568  inclusion criteria   confirmed diagnosis cf   ...      1   \n",
              "14569  inclusion criteria   locally recurrent metasta...      0   \n",
              "14570  inclusion criteria   patient completed colonos...      1   \n",
              "\n",
              "                                            combine_data  \n",
              "0      protocol amended statsaccrual changes pi  aggr...  \n",
              "1        smoking cessation  cytisine placebo comparat...  \n",
              "2        rheumatoid arthritis  placebo matched predni...  \n",
              "3        idiopathic pulmonary fibrosis  nintedanib pi...  \n",
              "4        type 2 diabetes mellitus  sitagliptin placeb...  \n",
              "...                                                  ...  \n",
              "14566    type 2 diabetes mellitus  dulaglutide insuli...  \n",
              "14567    idiopathic parkinson disease  rotigotine pla...  \n",
              "14568    cystic fibrosis  azli placebo match azli tob...  \n",
              "14569  closed prolonged enrollment timelines  renal c...  \n",
              "14570    chronic constipation constipation  linacloti...  \n",
              "\n",
              "[14571 rows x 6 columns]"
            ],
            "text/html": [
              "\n",
              "  <div id=\"df-cca52808-22e1-402a-987d-0f0680d7c0ad\" class=\"colab-df-container\">\n",
              "    <div>\n",
              "<style scoped>\n",
              "    .dataframe tbody tr th:only-of-type {\n",
              "        vertical-align: middle;\n",
              "    }\n",
              "\n",
              "    .dataframe tbody tr th {\n",
              "        vertical-align: top;\n",
              "    }\n",
              "\n",
              "    .dataframe thead th {\n",
              "        text-align: right;\n",
              "    }\n",
              "</style>\n",
              "<table border=\"1\" class=\"dataframe\">\n",
              "  <thead>\n",
              "    <tr style=\"text-align: right;\">\n",
              "      <th></th>\n",
              "      <th>why_stop_updated</th>\n",
              "      <th>diseases_updated</th>\n",
              "      <th>drugs_updated</th>\n",
              "      <th>criteria_updated</th>\n",
              "      <th>label</th>\n",
              "      <th>combine_data</th>\n",
              "    </tr>\n",
              "  </thead>\n",
              "  <tbody>\n",
              "    <tr>\n",
              "      <th>0</th>\n",
              "      <td>protocol amended statsaccrual changes pi</td>\n",
              "      <td>aggressive nonhodgkin lymphoma bcell nonhodgki...</td>\n",
              "      <td>cyclophosphamide doxorubicin hydrochloride pre...</td>\n",
              "      <td>inclusion criteria   patient confirmed diagnos...</td>\n",
              "      <td>0</td>\n",
              "      <td>protocol amended statsaccrual changes pi  aggr...</td>\n",
              "    </tr>\n",
              "    <tr>\n",
              "      <th>1</th>\n",
              "      <td></td>\n",
              "      <td>smoking cessation</td>\n",
              "      <td>cytisine placebo comparator</td>\n",
              "      <td>inclusion criteria  1 male female subjects age...</td>\n",
              "      <td>1</td>\n",
              "      <td>smoking cessation  cytisine placebo comparat...</td>\n",
              "    </tr>\n",
              "    <tr>\n",
              "      <th>2</th>\n",
              "      <td></td>\n",
              "      <td>rheumatoid arthritis</td>\n",
              "      <td>placebo matched prednisone prednisone</td>\n",
              "      <td>inclusion criteria  tocilizumabexperienced par...</td>\n",
              "      <td>1</td>\n",
              "      <td>rheumatoid arthritis  placebo matched predni...</td>\n",
              "    </tr>\n",
              "    <tr>\n",
              "      <th>3</th>\n",
              "      <td></td>\n",
              "      <td>idiopathic pulmonary fibrosis</td>\n",
              "      <td>nintedanib pirfenidone</td>\n",
              "      <td>inclusion criteria   written informed consent ...</td>\n",
              "      <td>1</td>\n",
              "      <td>idiopathic pulmonary fibrosis  nintedanib pi...</td>\n",
              "    </tr>\n",
              "    <tr>\n",
              "      <th>4</th>\n",
              "      <td></td>\n",
              "      <td>type 2 diabetes mellitus</td>\n",
              "      <td>sitagliptin placebo ipragliflozin</td>\n",
              "      <td>inclusion criteria   type 2 diabetes mellitus ...</td>\n",
              "      <td>1</td>\n",
              "      <td>type 2 diabetes mellitus  sitagliptin placeb...</td>\n",
              "    </tr>\n",
              "    <tr>\n",
              "      <th>...</th>\n",
              "      <td>...</td>\n",
              "      <td>...</td>\n",
              "      <td>...</td>\n",
              "      <td>...</td>\n",
              "      <td>...</td>\n",
              "      <td>...</td>\n",
              "    </tr>\n",
              "    <tr>\n",
              "      <th>14566</th>\n",
              "      <td></td>\n",
              "      <td>type 2 diabetes mellitus</td>\n",
              "      <td>dulaglutide insulin glargine metformin sulfony...</td>\n",
              "      <td>inclusion criteria   type 2 diabetes mellitus ...</td>\n",
              "      <td>1</td>\n",
              "      <td>type 2 diabetes mellitus  dulaglutide insuli...</td>\n",
              "    </tr>\n",
              "    <tr>\n",
              "      <th>14567</th>\n",
              "      <td></td>\n",
              "      <td>idiopathic parkinson disease</td>\n",
              "      <td>rotigotine placebo patch ldopa</td>\n",
              "      <td>inclusion criteria  inclusion criteria   indep...</td>\n",
              "      <td>1</td>\n",
              "      <td>idiopathic parkinson disease  rotigotine pla...</td>\n",
              "    </tr>\n",
              "    <tr>\n",
              "      <th>14568</th>\n",
              "      <td></td>\n",
              "      <td>cystic fibrosis</td>\n",
              "      <td>azli placebo match azli tobramycin inhalation ...</td>\n",
              "      <td>inclusion criteria   confirmed diagnosis cf   ...</td>\n",
              "      <td>1</td>\n",
              "      <td>cystic fibrosis  azli placebo match azli tob...</td>\n",
              "    </tr>\n",
              "    <tr>\n",
              "      <th>14569</th>\n",
              "      <td>closed prolonged enrollment timelines</td>\n",
              "      <td>renal cell carcinoma</td>\n",
              "      <td>axitinib</td>\n",
              "      <td>inclusion criteria   locally recurrent metasta...</td>\n",
              "      <td>0</td>\n",
              "      <td>closed prolonged enrollment timelines  renal c...</td>\n",
              "    </tr>\n",
              "    <tr>\n",
              "      <th>14570</th>\n",
              "      <td></td>\n",
              "      <td>chronic constipation constipation</td>\n",
              "      <td>linaclotide 290 micrograms linaclotide 145 mic...</td>\n",
              "      <td>inclusion criteria   patient completed colonos...</td>\n",
              "      <td>1</td>\n",
              "      <td>chronic constipation constipation  linacloti...</td>\n",
              "    </tr>\n",
              "  </tbody>\n",
              "</table>\n",
              "<p>14571 rows × 6 columns</p>\n",
              "</div>\n",
              "    <div class=\"colab-df-buttons\">\n",
              "\n",
              "  <div class=\"colab-df-container\">\n",
              "    <button class=\"colab-df-convert\" onclick=\"convertToInteractive('df-cca52808-22e1-402a-987d-0f0680d7c0ad')\"\n",
              "            title=\"Convert this dataframe to an interactive table.\"\n",
              "            style=\"display:none;\">\n",
              "\n",
              "  <svg xmlns=\"http://www.w3.org/2000/svg\" height=\"24px\" viewBox=\"0 -960 960 960\">\n",
              "    <path d=\"M120-120v-720h720v720H120Zm60-500h600v-160H180v160Zm220 220h160v-160H400v160Zm0 220h160v-160H400v160ZM180-400h160v-160H180v160Zm440 0h160v-160H620v160ZM180-180h160v-160H180v160Zm440 0h160v-160H620v160Z\"/>\n",
              "  </svg>\n",
              "    </button>\n",
              "\n",
              "  <style>\n",
              "    .colab-df-container {\n",
              "      display:flex;\n",
              "      gap: 12px;\n",
              "    }\n",
              "\n",
              "    .colab-df-convert {\n",
              "      background-color: #E8F0FE;\n",
              "      border: none;\n",
              "      border-radius: 50%;\n",
              "      cursor: pointer;\n",
              "      display: none;\n",
              "      fill: #1967D2;\n",
              "      height: 32px;\n",
              "      padding: 0 0 0 0;\n",
              "      width: 32px;\n",
              "    }\n",
              "\n",
              "    .colab-df-convert:hover {\n",
              "      background-color: #E2EBFA;\n",
              "      box-shadow: 0px 1px 2px rgba(60, 64, 67, 0.3), 0px 1px 3px 1px rgba(60, 64, 67, 0.15);\n",
              "      fill: #174EA6;\n",
              "    }\n",
              "\n",
              "    .colab-df-buttons div {\n",
              "      margin-bottom: 4px;\n",
              "    }\n",
              "\n",
              "    [theme=dark] .colab-df-convert {\n",
              "      background-color: #3B4455;\n",
              "      fill: #D2E3FC;\n",
              "    }\n",
              "\n",
              "    [theme=dark] .colab-df-convert:hover {\n",
              "      background-color: #434B5C;\n",
              "      box-shadow: 0px 1px 3px 1px rgba(0, 0, 0, 0.15);\n",
              "      filter: drop-shadow(0px 1px 2px rgba(0, 0, 0, 0.3));\n",
              "      fill: #FFFFFF;\n",
              "    }\n",
              "  </style>\n",
              "\n",
              "    <script>\n",
              "      const buttonEl =\n",
              "        document.querySelector('#df-cca52808-22e1-402a-987d-0f0680d7c0ad button.colab-df-convert');\n",
              "      buttonEl.style.display =\n",
              "        google.colab.kernel.accessAllowed ? 'block' : 'none';\n",
              "\n",
              "      async function convertToInteractive(key) {\n",
              "        const element = document.querySelector('#df-cca52808-22e1-402a-987d-0f0680d7c0ad');\n",
              "        const dataTable =\n",
              "          await google.colab.kernel.invokeFunction('convertToInteractive',\n",
              "                                                    [key], {});\n",
              "        if (!dataTable) return;\n",
              "\n",
              "        const docLinkHtml = 'Like what you see? Visit the ' +\n",
              "          '<a target=\"_blank\" href=https://colab.research.google.com/notebooks/data_table.ipynb>data table notebook</a>'\n",
              "          + ' to learn more about interactive tables.';\n",
              "        element.innerHTML = '';\n",
              "        dataTable['output_type'] = 'display_data';\n",
              "        await google.colab.output.renderOutput(dataTable, element);\n",
              "        const docLink = document.createElement('div');\n",
              "        docLink.innerHTML = docLinkHtml;\n",
              "        element.appendChild(docLink);\n",
              "      }\n",
              "    </script>\n",
              "  </div>\n",
              "\n",
              "\n",
              "<div id=\"df-74684134-2660-42db-8fe4-599ca1fbdad6\">\n",
              "  <button class=\"colab-df-quickchart\" onclick=\"quickchart('df-74684134-2660-42db-8fe4-599ca1fbdad6')\"\n",
              "            title=\"Suggest charts.\"\n",
              "            style=\"display:none;\">\n",
              "\n",
              "<svg xmlns=\"http://www.w3.org/2000/svg\" height=\"24px\"viewBox=\"0 0 24 24\"\n",
              "     width=\"24px\">\n",
              "    <g>\n",
              "        <path d=\"M19 3H5c-1.1 0-2 .9-2 2v14c0 1.1.9 2 2 2h14c1.1 0 2-.9 2-2V5c0-1.1-.9-2-2-2zM9 17H7v-7h2v7zm4 0h-2V7h2v10zm4 0h-2v-4h2v4z\"/>\n",
              "    </g>\n",
              "</svg>\n",
              "  </button>\n",
              "\n",
              "<style>\n",
              "  .colab-df-quickchart {\n",
              "      --bg-color: #E8F0FE;\n",
              "      --fill-color: #1967D2;\n",
              "      --hover-bg-color: #E2EBFA;\n",
              "      --hover-fill-color: #174EA6;\n",
              "      --disabled-fill-color: #AAA;\n",
              "      --disabled-bg-color: #DDD;\n",
              "  }\n",
              "\n",
              "  [theme=dark] .colab-df-quickchart {\n",
              "      --bg-color: #3B4455;\n",
              "      --fill-color: #D2E3FC;\n",
              "      --hover-bg-color: #434B5C;\n",
              "      --hover-fill-color: #FFFFFF;\n",
              "      --disabled-bg-color: #3B4455;\n",
              "      --disabled-fill-color: #666;\n",
              "  }\n",
              "\n",
              "  .colab-df-quickchart {\n",
              "    background-color: var(--bg-color);\n",
              "    border: none;\n",
              "    border-radius: 50%;\n",
              "    cursor: pointer;\n",
              "    display: none;\n",
              "    fill: var(--fill-color);\n",
              "    height: 32px;\n",
              "    padding: 0;\n",
              "    width: 32px;\n",
              "  }\n",
              "\n",
              "  .colab-df-quickchart:hover {\n",
              "    background-color: var(--hover-bg-color);\n",
              "    box-shadow: 0 1px 2px rgba(60, 64, 67, 0.3), 0 1px 3px 1px rgba(60, 64, 67, 0.15);\n",
              "    fill: var(--button-hover-fill-color);\n",
              "  }\n",
              "\n",
              "  .colab-df-quickchart-complete:disabled,\n",
              "  .colab-df-quickchart-complete:disabled:hover {\n",
              "    background-color: var(--disabled-bg-color);\n",
              "    fill: var(--disabled-fill-color);\n",
              "    box-shadow: none;\n",
              "  }\n",
              "\n",
              "  .colab-df-spinner {\n",
              "    border: 2px solid var(--fill-color);\n",
              "    border-color: transparent;\n",
              "    border-bottom-color: var(--fill-color);\n",
              "    animation:\n",
              "      spin 1s steps(1) infinite;\n",
              "  }\n",
              "\n",
              "  @keyframes spin {\n",
              "    0% {\n",
              "      border-color: transparent;\n",
              "      border-bottom-color: var(--fill-color);\n",
              "      border-left-color: var(--fill-color);\n",
              "    }\n",
              "    20% {\n",
              "      border-color: transparent;\n",
              "      border-left-color: var(--fill-color);\n",
              "      border-top-color: var(--fill-color);\n",
              "    }\n",
              "    30% {\n",
              "      border-color: transparent;\n",
              "      border-left-color: var(--fill-color);\n",
              "      border-top-color: var(--fill-color);\n",
              "      border-right-color: var(--fill-color);\n",
              "    }\n",
              "    40% {\n",
              "      border-color: transparent;\n",
              "      border-right-color: var(--fill-color);\n",
              "      border-top-color: var(--fill-color);\n",
              "    }\n",
              "    60% {\n",
              "      border-color: transparent;\n",
              "      border-right-color: var(--fill-color);\n",
              "    }\n",
              "    80% {\n",
              "      border-color: transparent;\n",
              "      border-right-color: var(--fill-color);\n",
              "      border-bottom-color: var(--fill-color);\n",
              "    }\n",
              "    90% {\n",
              "      border-color: transparent;\n",
              "      border-bottom-color: var(--fill-color);\n",
              "    }\n",
              "  }\n",
              "</style>\n",
              "\n",
              "  <script>\n",
              "    async function quickchart(key) {\n",
              "      const quickchartButtonEl =\n",
              "        document.querySelector('#' + key + ' button');\n",
              "      quickchartButtonEl.disabled = true;  // To prevent multiple clicks.\n",
              "      quickchartButtonEl.classList.add('colab-df-spinner');\n",
              "      try {\n",
              "        const charts = await google.colab.kernel.invokeFunction(\n",
              "            'suggestCharts', [key], {});\n",
              "      } catch (error) {\n",
              "        console.error('Error during call to suggestCharts:', error);\n",
              "      }\n",
              "      quickchartButtonEl.classList.remove('colab-df-spinner');\n",
              "      quickchartButtonEl.classList.add('colab-df-quickchart-complete');\n",
              "    }\n",
              "    (() => {\n",
              "      let quickchartButtonEl =\n",
              "        document.querySelector('#df-74684134-2660-42db-8fe4-599ca1fbdad6 button');\n",
              "      quickchartButtonEl.style.display =\n",
              "        google.colab.kernel.accessAllowed ? 'block' : 'none';\n",
              "    })();\n",
              "  </script>\n",
              "</div>\n",
              "    </div>\n",
              "  </div>\n"
            ]
          },
          "metadata": {},
          "execution_count": 13
        }
      ]
    },
    {
      "cell_type": "code",
      "source": [
        "tokenizer = Tokenizer(num_words = 5000)\n",
        "tokenizer.fit_on_texts(use_data['combine_data'])  # Replace 'diseases' with the appropriate column name\n",
        "X_text = tokenizer.texts_to_sequences(use_data['combine_data'])  # Convert text to sequences\n",
        "X_text = pad_sequences(X_text, maxlen=500)  # Pad sequences if needed\n"
      ],
      "metadata": {
        "id": "N5dtkNV0T44M"
      },
      "execution_count": null,
      "outputs": []
    },
    {
      "cell_type": "code",
      "source": [
        "X_train, X_test, y_train, y_test = train_test_split(X_text, use_data['label'], test_size=0.4, random_state=42, stratify = use_data['label'])"
      ],
      "metadata": {
        "id": "Yl22w99pNCb_"
      },
      "execution_count": null,
      "outputs": []
    },
    {
      "cell_type": "code",
      "source": [
        "X_train.shape, X_test.shape, y_train.shape"
      ],
      "metadata": {
        "colab": {
          "base_uri": "https://localhost:8080/"
        },
        "id": "WVDvFP_0OPwD",
        "outputId": "8dde41ac-46b3-4613-c0b8-7400de71ba51"
      },
      "execution_count": null,
      "outputs": [
        {
          "output_type": "execute_result",
          "data": {
            "text/plain": [
              "((8742, 500), (5829, 500), (8742,))"
            ]
          },
          "metadata": {},
          "execution_count": 27
        }
      ]
    },
    {
      "cell_type": "code",
      "source": [
        "vocab_size = len(tokenizer.word_index) + 1\n",
        "embedding_dim = 300\n",
        "max_sequence_length = X_train.shape[1]\n",
        "\n",
        "model = Sequential()\n",
        "model.add(Embedding(input_dim=vocab_size, output_dim=embedding_dim, input_length=max_sequence_length))\n",
        "\n",
        "model.add(Bidirectional(LSTM(units=64, return_sequences=True)))\n",
        "model.add(Bidirectional(LSTM(units=64, return_sequences=True)))\n",
        "\n",
        "model.add(Dense(units=64, activation='relu'))\n",
        "model.add(Dropout(0.5))\n",
        "model.add(Dense(units=1, activation='sigmoid'))\n",
        "\n",
        "model.compile(optimizer='adam', loss='binary_crossentropy', metrics=['accuracy'])\n",
        "\n",
        "model.summary()"
      ],
      "metadata": {
        "colab": {
          "base_uri": "https://localhost:8080/"
        },
        "id": "Xxga44_AOIXD",
        "outputId": "4292a3aa-3801-4243-b383-426751b3afda"
      },
      "execution_count": null,
      "outputs": [
        {
          "output_type": "stream",
          "name": "stdout",
          "text": [
            "Model: \"sequential\"\n",
            "_________________________________________________________________\n",
            " Layer (type)                Output Shape              Param #   \n",
            "=================================================================\n",
            " embedding (Embedding)       (None, 500, 300)          16079100  \n",
            "                                                                 \n",
            " bidirectional (Bidirection  (None, 500, 128)          186880    \n",
            " al)                                                             \n",
            "                                                                 \n",
            " bidirectional_1 (Bidirecti  (None, 500, 128)          98816     \n",
            " onal)                                                           \n",
            "                                                                 \n",
            " dense (Dense)               (None, 500, 64)           8256      \n",
            "                                                                 \n",
            " dropout (Dropout)           (None, 500, 64)           0         \n",
            "                                                                 \n",
            " dense_1 (Dense)             (None, 500, 1)            65        \n",
            "                                                                 \n",
            "=================================================================\n",
            "Total params: 16373117 (62.46 MB)\n",
            "Trainable params: 16373117 (62.46 MB)\n",
            "Non-trainable params: 0 (0.00 Byte)\n",
            "_________________________________________________________________\n"
          ]
        }
      ]
    },
    {
      "cell_type": "code",
      "source": [
        "history = model.fit(X_train, y_train, epochs=10, batch_size=64, validation_split=0.2)"
      ],
      "metadata": {
        "colab": {
          "base_uri": "https://localhost:8080/"
        },
        "id": "-Z0YFGDzOIJh",
        "outputId": "6030ddc0-df4a-4f29-ba0f-8de1e066ec87"
      },
      "execution_count": null,
      "outputs": [
        {
          "output_type": "stream",
          "name": "stdout",
          "text": [
            "Epoch 1/10\n",
            "110/110 [==============================] - 504s 4s/step - loss: 0.6052 - accuracy: 0.7023 - val_loss: 0.5878 - val_accuracy: 0.7064\n",
            "Epoch 2/10\n",
            "110/110 [==============================] - 475s 4s/step - loss: 0.5424 - accuracy: 0.7455 - val_loss: 0.5197 - val_accuracy: 0.7546\n",
            "Epoch 3/10\n",
            "110/110 [==============================] - 496s 5s/step - loss: 0.4020 - accuracy: 0.8532 - val_loss: 0.4148 - val_accuracy: 0.8569\n",
            "Epoch 4/10\n",
            "110/110 [==============================] - 493s 4s/step - loss: 0.4424 - accuracy: 0.8130 - val_loss: 0.4814 - val_accuracy: 0.8050\n",
            "Epoch 5/10\n",
            "110/110 [==============================] - 498s 5s/step - loss: 0.4200 - accuracy: 0.8409 - val_loss: 0.4754 - val_accuracy: 0.8105\n",
            "Epoch 6/10\n",
            "110/110 [==============================] - 489s 4s/step - loss: 0.3664 - accuracy: 0.8610 - val_loss: 0.3936 - val_accuracy: 0.8585\n",
            "Epoch 7/10\n",
            "110/110 [==============================] - 488s 4s/step - loss: 0.2985 - accuracy: 0.8959 - val_loss: 0.4131 - val_accuracy: 0.8603\n",
            "Epoch 8/10\n",
            "110/110 [==============================] - 487s 4s/step - loss: 0.2836 - accuracy: 0.8980 - val_loss: 0.4172 - val_accuracy: 0.8587\n",
            "Epoch 9/10\n",
            "110/110 [==============================] - 483s 4s/step - loss: 0.2895 - accuracy: 0.8949 - val_loss: 0.3830 - val_accuracy: 0.8613\n",
            "Epoch 10/10\n",
            "110/110 [==============================] - 487s 4s/step - loss: 0.3187 - accuracy: 0.8911 - val_loss: 0.4311 - val_accuracy: 0.8423\n"
          ]
        },
        {
          "output_type": "execute_result",
          "data": {
            "text/plain": [
              "<keras.src.callbacks.History at 0x7ad679dbde10>"
            ]
          },
          "metadata": {},
          "execution_count": 29
        }
      ]
    },
    {
      "cell_type": "code",
      "source": [
        "# Plot the training and validation metrics\n",
        "plt.figure(figsize=(12, 4))\n",
        "plt.subplot(1, 2, 1)\n",
        "plt.plot(history.history['loss'], label='Training Loss')\n",
        "plt.plot(history.history['val_loss'], label='Validation Loss')\n",
        "plt.xlabel('Epoch')\n",
        "plt.ylabel('Loss')\n",
        "plt.legend()\n",
        "\n",
        "# Plot the training and validation accuracy\n",
        "plt.subplot(1, 2, 2)\n",
        "plt.plot(history.history['accuracy'], label='Training Accuracy')\n",
        "plt.plot(history.history['val_accuracy'], label='Validation Accuracy')\n",
        "plt.xlabel('Epoch')\n",
        "plt.ylabel('Accuracy')\n",
        "plt.legend()\n",
        "\n",
        "plt.tight_layout()\n",
        "plt.show()"
      ],
      "metadata": {
        "colab": {
          "base_uri": "https://localhost:8080/",
          "height": 407
        },
        "id": "_6nYXTlOkfMY",
        "outputId": "bde16aed-9ff1-4b2d-ef26-d862875de545"
      },
      "execution_count": null,
      "outputs": [
        {
          "output_type": "display_data",
          "data": {
            "text/plain": [
              "<Figure size 1200x400 with 2 Axes>"
            ],
            "image/png": "[encoded data removed]"
          },
          "metadata": {}
        }
      ]
    },
    {
      "cell_type": "code",
      "source": [
        "loss, accuracy = model.evaluate(X_test, y_test)\n",
        "print(f\"Test Loss: {loss}, Test Accuracy: {accuracy}\")"
      ],
      "metadata": {
        "colab": {
          "base_uri": "https://localhost:8080/"
        },
        "id": "NM7bMKUKn7Jt",
        "outputId": "1725a23d-e577-4461-e1d6-3808fef4ed2a"
      },
      "execution_count": null,
      "outputs": [
        {
          "output_type": "stream",
          "name": "stdout",
          "text": [
            "183/183 [==============================] - 108s 593ms/step - loss: 0.3988 - accuracy: 0.8569\n",
            "Test Loss: 0.3988424837589264, Test Accuracy: 0.8568606376647949\n"
          ]
        }
      ]
    }
  ]
}